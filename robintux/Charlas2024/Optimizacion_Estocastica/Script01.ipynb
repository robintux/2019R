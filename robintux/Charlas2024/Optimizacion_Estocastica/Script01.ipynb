{
  "nbformat": 4,
  "nbformat_minor": 0,
  "metadata": {
    "colab": {
      "provenance": [],
      "authorship_tag": "ABX9TyNEPqzqojWmBbgjJrGCyRL8",
      "include_colab_link": true
    },
    "kernelspec": {
      "name": "python3",
      "display_name": "Python 3"
    },
    "language_info": {
      "name": "python"
    }
  },
  "cells": [
    {
      "cell_type": "markdown",
      "metadata": {
        "id": "view-in-github",
        "colab_type": "text"
      },
      "source": [
        "<a href=\"https://colab.research.google.com/github/robintux/2019R/blob/master/robintux/Charlas2024/Optimizacion_Estocastica/Script01.ipynb\" target=\"_parent\"><img src=\"https://colab.research.google.com/assets/colab-badge.svg\" alt=\"Open In Colab\"/></a>"
      ]
    },
    {
      "cell_type": "markdown",
      "source": [
        "# Una introducción sencilla a los algoritmos de optimización estocástica"
      ],
      "metadata": {
        "id": "9WTTZLKcY510"
      }
    },
    {
      "cell_type": "code",
      "execution_count": null,
      "metadata": {
        "id": "-hyMiqM-Ymbn"
      },
      "outputs": [],
      "source": [
        ""
      ]
    }
  ]
}